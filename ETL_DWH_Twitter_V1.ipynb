{
 "cells": [
  {
   "cell_type": "code",
   "execution_count": 1,
   "id": "53d0d663",
   "metadata": {},
   "outputs": [],
   "source": [
    "import psycopg2\n",
    "from sqlalchemy import create_engine\n",
    "import pandas as pd\n",
    "import numpy as np\n",
    "from datetime import datetime, timedelta, timezone, date\n",
    "from decouple import config\n",
    "import string"
   ]
  },
  {
   "cell_type": "code",
   "execution_count": 2,
   "id": "04c25825",
   "metadata": {},
   "outputs": [],
   "source": [
    "# Credentials Data lake\n",
    "dluname = config('DBUNAME')\n",
    "dlpwd = config('DBPWD')\n",
    "dlhost = config('HOST')\n",
    "dldbname = config('DBNAME')\n",
    "port = config('PORT')\n",
    "\n",
    "# Credentials Datawarehouse\n",
    "dwhuname = config('DWHUNAME')\n",
    "dwhpwd = config('DWHPWD')\n",
    "dwhhost = config('DWHHOST')\n",
    "dwhdbname = config('DWHDBNAME')"
   ]
  },
  {
   "cell_type": "code",
   "execution_count": 3,
   "id": "726d6e95",
   "metadata": {},
   "outputs": [],
   "source": [
    "def fetch_load_data(cur, asset, method):\n",
    "    \n",
    "    #define variables for fetching data\n",
    "    table_name_str = \"'table_tw_\"+asset+\"'\"\n",
    "    table_name = 'table_tw_'+asset\n",
    "    \n",
    "    df = pd.DataFrame()\n",
    "    \n",
    " \n",
    "    while True:\n",
    "        #column names of the table in the data lake\n",
    "        try:\n",
    "            cur.execute(\"select COLUMN_NAME from information_schema.columns where table_name=\"+table_name_str)\n",
    "            column_names = [row[0] for row in cur]\n",
    "        \n",
    "            col_ind_date = column_names.index('date')\n",
    "            col_ind_tc = column_names.index('tweet_count')\n",
    "            col_ind_asset = column_names.index('label')      \n",
    "        except Exception as e: \n",
    "            print(\"Column indexes could no be defined\")\n",
    "            print(e)\n",
    "            break    \n",
    "    \n",
    "        #fetch data in data lake\n",
    "        try:             \n",
    "            cur.execute(\"SELECT * FROM \"+table_name+\" WHERE date = (SELECT MAX(date) FROM \"+table_name+\");\")\n",
    "            result = cur.fetchall()\n",
    "        except psycopg2.Error as e: \n",
    "            print(\"Error: select *\")\n",
    "            print(e)\n",
    "            break\n",
    "   \n",
    "        #build dataframe \n",
    "        try:\n",
    "            for row in result:\n",
    "                df = df.append(pd.DataFrame([{'date': row[col_ind_date], \n",
    "                                    'asset': row[col_ind_asset],\n",
    "                                     'count': row[col_ind_tc]}]))   \n",
    "        except Exception as e: \n",
    "            print(\"Dataframe could not builded\")\n",
    "            print(e) \n",
    "            break            \n",
    "            \n",
    "        #change date format \n",
    "        date_df = df['date'].values[0]\n",
    "        timestamp = ((date_df - np.datetime64('1970-01-01T00:00:00')) / np.timedelta64(1, 's'))\n",
    "        df['date'] = datetime.utcfromtimestamp(timestamp)\n",
    "\n",
    "        #define loading variables \n",
    "        dwhtblname = 'social_media'\n",
    "        if_ex_val = method\n",
    "        \n",
    "        #load data\n",
    "        try:\n",
    "            conn_string = 'postgresql://'+dwhuname+':'+dwhpwd+'@'+dwhhost+':'+port+'/'+dwhdbname\n",
    "            engine = create_engine(conn_string)\n",
    "            df.to_sql(dwhtblname, conn_string, if_exists = if_ex_val, index=False)\n",
    "            print(table_name+\" loaded\")\n",
    "        except Exception as e:\n",
    "            print(e)\n",
    "            print(\"Data load failed: \" + table_name)\n",
    "            break\n",
    "        break    \n",
    "    "
   ]
  },
  {
   "cell_type": "code",
   "execution_count": 4,
   "id": "8e89e3f8",
   "metadata": {},
   "outputs": [],
   "source": [
    "def close_conn_to_dl(cur, conn):\n",
    "    try:\n",
    "        cur.close()\n",
    "        conn.close()\n",
    "        print(\"connection closed\")\n",
    "    except psycopg2.Error as e: \n",
    "        print(\"Error: Could not close\")\n",
    "        print(e)    "
   ]
  },
  {
   "cell_type": "code",
   "execution_count": 5,
   "id": "d57bca47",
   "metadata": {},
   "outputs": [],
   "source": [
    "def conn_to_dl():\n",
    "    try: \n",
    "        conn = psycopg2.connect(\"host=\" + dlhost + \" dbname=\" + dldbname + \" user=\" + dluname + \" password=\"+dlpwd)\n",
    "    except psycopg2.Error as e: \n",
    "        print(\"Error: Could not make connection to the Postgres database\")\n",
    "        print(e)\n",
    "    \n",
    "    try: \n",
    "        cur = conn.cursor()\n",
    "    except psycopg2.Error as e: \n",
    "        print(\"Error: Could not get curser to the Database\")\n",
    "        print(e)\n",
    "    \n",
    "    # Auto commit\n",
    "    conn.set_session(autocommit=True)\n",
    "    print(\"connected\")\n",
    "    return cur, conn"
   ]
  },
  {
   "cell_type": "code",
   "execution_count": 6,
   "id": "0adf9d1f",
   "metadata": {},
   "outputs": [],
   "source": [
    "assets = ['bitcoin', 'ethereum', 'binance', 'ripple', 'terra', 'cardano', 'solana', 'avalanche', 'polkadot', 'dogecoin', 'msci_world', 'euro_stoxx', 'smi', 'nasdaq', 'gold', 'silver']"
   ]
  },
  {
   "cell_type": "code",
   "execution_count": 7,
   "id": "3fadb421",
   "metadata": {},
   "outputs": [
    {
     "name": "stdout",
     "output_type": "stream",
     "text": [
      "connected\n",
      "table_tw_bitcoin loaded\n",
      "table_tw_ethereum loaded\n",
      "table_tw_binance loaded\n",
      "table_tw_ripple loaded\n",
      "table_tw_terra loaded\n",
      "table_tw_cardano loaded\n",
      "table_tw_solana loaded\n",
      "table_tw_avalanche loaded\n",
      "table_tw_polkadot loaded\n",
      "table_tw_dogecoin loaded\n",
      "table_tw_msci_world loaded\n",
      "table_tw_euro_stoxx loaded\n",
      "table_tw_smi loaded\n",
      "table_tw_nasdaq loaded\n",
      "table_tw_gold loaded\n",
      "table_tw_silver loaded\n",
      "connection closed\n"
     ]
    }
   ],
   "source": [
    "def main():\n",
    "    \n",
    "    #open connection\n",
    "    cur, conn = conn_to_dl()\n",
    "    \n",
    "    # process data\n",
    "    for asset in assets:\n",
    "        fetch_load_data(cur, asset,'append')  \n",
    "    \n",
    "    #close connection\n",
    "    close_conn_to_dl(cur, conn)    \n",
    "\n",
    "if __name__ == \"__main__\":\n",
    "    main()"
   ]
  }
 ],
 "metadata": {
  "kernelspec": {
   "display_name": "Python 3 (ipykernel)",
   "language": "python",
   "name": "python3"
  },
  "language_info": {
   "codemirror_mode": {
    "name": "ipython",
    "version": 3
   },
   "file_extension": ".py",
   "mimetype": "text/x-python",
   "name": "python",
   "nbconvert_exporter": "python",
   "pygments_lexer": "ipython3",
   "version": "3.9.7"
  }
 },
 "nbformat": 4,
 "nbformat_minor": 5
}
