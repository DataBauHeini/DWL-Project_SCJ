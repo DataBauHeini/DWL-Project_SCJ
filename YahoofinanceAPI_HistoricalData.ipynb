{
 "cells": [
  {
   "cell_type": "code",
   "execution_count": 1,
   "id": "de135096",
   "metadata": {},
   "outputs": [],
   "source": [
    "# import packages\n",
    "from yfapi import YahooFinanceAPI, Interval\n",
    "from datetime import datetime, timedelta\n",
    "import psycopg2\n",
    "from sqlalchemy import create_engine\n",
    "from decouple import config"
   ]
  },
  {
   "cell_type": "code",
   "execution_count": 2,
   "id": "d83b36ab",
   "metadata": {},
   "outputs": [],
   "source": [
    "# Get database credentials, db path and twitter bearer token from env-file\n",
    "dbuname = config('DBUNAME')\n",
    "dbpwd = config('DBPWD')\n",
    "host = config('HOST')\n",
    "port = config('PORT')\n",
    "dbname = config('DBNAME')"
   ]
  },
  {
   "cell_type": "code",
   "execution_count": 3,
   "id": "17552445",
   "metadata": {},
   "outputs": [],
   "source": [
    "# instantiate the API and set the interval to daily data\n",
    "dh = YahooFinanceAPI(Interval.DAILY)"
   ]
  },
  {
   "cell_type": "code",
   "execution_count": 9,
   "id": "f66a2782",
   "metadata": {},
   "outputs": [],
   "source": [
    "# define function for fetching and loading the data\n",
    "\n",
    "def fetch_load_data(instrument, label, start, end, method):\n",
    "    \n",
    "    while True:    \n",
    "        #fetch data\n",
    "        try:\n",
    "            df = dh.get_ticker_data(instrument, start, end)\n",
    "            table_name = 'table_yf_'+labels[instrument]\n",
    "            print(table_name)\n",
    "            df['Ins'] = instrument\n",
    "            df['Ins_label'] = label\n",
    "        except Exception as e:\n",
    "            print(e)\n",
    "            print(\"Investment Instrument not available: \" + instrument)\n",
    "            break\n",
    "        \n",
    "                \n",
    "        #load data\n",
    "        if_ex_val = method\n",
    "        \n",
    "        try:\n",
    "            conn_string = 'postgresql://'+dbuname+':'+dbpwd+'@'+host+':'+port+'/'+dbname\n",
    "            engine = create_engine(conn_string)\n",
    "            df.to_sql(table_name, conn_string, if_exists = if_ex_val, index=False) \n",
    "        except Exception as e:\n",
    "            print(e)\n",
    "            print(\"Data load failed: \" + table_name)   \n",
    "            break\n",
    "        break    \n",
    "    "
   ]
  },
  {
   "cell_type": "code",
   "execution_count": 14,
   "id": "803da653",
   "metadata": {},
   "outputs": [],
   "source": [
    "# Initial load of the historical data\n",
    "\n",
    "def main():\n",
    "    \n",
    "    # Investment instruments\n",
    "    inv_instruments = ['URTH', 'EXW1.DE', 'CSSMI.SW', 'EXXT.DE', 'GC=F', 'SI=F']\n",
    "    labels={'GC=F':'gold','SI=F':'silver','URTH':'msci_world', 'EXW1.DE':'euro_stoxx', 'CSSMI.SW':'smi', 'EXXT.DE':'nasdaq'}\n",
    "    \n",
    "    # set timeframe\n",
    "    now = datetime(2022, 3, 31)\n",
    "    then = datetime(2022, 2, 1)\n",
    "\n",
    "    # set method of function df.to_sql()\n",
    "    method = 'replace'\n",
    "\n",
    "    # loop for all investment instruments\n",
    "    for ins in inv_instruments:\n",
    "        label = labels[ins]\n",
    "        fetch_load_data(ins, label, then, now, method)   "
   ]
  },
  {
   "cell_type": "code",
   "execution_count": 15,
   "id": "5256bafc",
   "metadata": {},
   "outputs": [
    {
     "name": "stdout",
     "output_type": "stream",
     "text": [
      "table_yf_testmsci_world\n",
      "table_yf_testeuro_stoxx\n",
      "table_yf_testsmi\n",
      "table_yf_testnasdaq\n",
      "table_yf_testgold\n",
      "table_yf_testsilver\n"
     ]
    }
   ],
   "source": [
    "# execute function\n",
    "if __name__ == \"__main__\":\n",
    "    main()"
   ]
  }
 ],
 "metadata": {
  "kernelspec": {
   "display_name": "Python 3 (ipykernel)",
   "language": "python",
   "name": "python3"
  },
  "language_info": {
   "codemirror_mode": {
    "name": "ipython",
    "version": 3
   },
   "file_extension": ".py",
   "mimetype": "text/x-python",
   "name": "python",
   "nbconvert_exporter": "python",
   "pygments_lexer": "ipython3",
   "version": "3.9.7"
  }
 },
 "nbformat": 4,
 "nbformat_minor": 5
}
