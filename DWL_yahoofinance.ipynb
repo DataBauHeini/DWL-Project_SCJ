{
 "cells": [
  {
   "cell_type": "code",
   "execution_count": 1,
   "id": "de135096",
   "metadata": {},
   "outputs": [],
   "source": [
    "from yfapi import YahooFinanceAPI, Interval\n",
    "from datetime import datetime, timedelta\n",
    "import psycopg2\n",
    "from sqlalchemy import create_engine\n",
    "from decouple import config"
   ]
  },
  {
   "cell_type": "code",
   "execution_count": 2,
   "id": "f05daeef",
   "metadata": {},
   "outputs": [],
   "source": [
    "# instantiate the API and set the interval to weekly data\n",
    "dh = YahooFinanceAPI(Interval.DAILY)\n",
    "\n",
    "# get datime of yesterday at 00:00:00\n",
    "yesterday = datetime.strftime(datetime.today() - timedelta(1), \"%Y, %m, %d\")\n",
    "now = datetime.strptime(yesterday, \"%Y, %m, %d\")\n",
    "then = datetime(2022, 3, 12)"
   ]
  },
  {
   "cell_type": "code",
   "execution_count": 3,
   "id": "c55ecb9e",
   "metadata": {},
   "outputs": [
    {
     "data": {
      "text/plain": [
       "'C:\\\\Users\\\\C'"
      ]
     },
     "execution_count": 3,
     "metadata": {},
     "output_type": "execute_result"
    }
   ],
   "source": [
    "import os\n",
    "os.getcwd()"
   ]
  },
  {
   "cell_type": "code",
   "execution_count": 5,
   "id": "d83b36ab",
   "metadata": {},
   "outputs": [
    {
     "name": "stdout",
     "output_type": "stream",
     "text": [
      "Christoph\n",
      "dbyahoo1\n",
      "dbyf1.c8vnebtzzltk.us-east-1.rds.amazonaws.com\n"
     ]
    }
   ],
   "source": [
    "#dbuname = 'Christoph'\n",
    "#dbpwd = 'dbyahoo1'\n",
    "#host = 'dbyf1.c8vnebtzzltk.us-east-1.rds.amazonaws.com'\n",
    "dbuname = config('DBUNAME')\n",
    "dbpwd = config('DBPWD')\n",
    "host = config('HOST')\n",
    "port = '5432'\n",
    "dbname = 'dbyf1'\n",
    "print(dbuname)\n",
    "print(dbpwd)\n",
    "print(host)"
   ]
  },
  {
   "cell_type": "code",
   "execution_count": 6,
   "id": "a96b7e52",
   "metadata": {},
   "outputs": [],
   "source": [
    "labels={'GC=F':'gold','SI=F':'silver','URTH':'msci_world', 'EXW1.DE':'euro_stoxx', 'CSSMI.SW':'smi', 'EXXT.DE':'nasdaq' }"
   ]
  },
  {
   "cell_type": "code",
   "execution_count": 7,
   "id": "f66a2782",
   "metadata": {},
   "outputs": [],
   "source": [
    "def fetch_load_data(instrument, start, end):\n",
    "    #fetch data\n",
    "    df_data = dh.get_ticker_data(instrument, start, end)\n",
    "    table_name = 'table_'+labels[instrument]\n",
    "    print(table_name)\n",
    "    \n",
    "    #load data\n",
    "    conn_string = 'postgresql://'+dbuname+':'+dbpwd+'@'+host+':'+port+'/'+dbname\n",
    "    engine = create_engine(conn_string)\n",
    "    df_data.to_sql(table_name, conn_string, if_exists = 'replace', index=False)    \n",
    "    "
   ]
  },
  {
   "cell_type": "code",
   "execution_count": 8,
   "id": "9dfdfc98",
   "metadata": {},
   "outputs": [
    {
     "name": "stdout",
     "output_type": "stream",
     "text": [
      "table_msci_world\n",
      "table_euro_stoxx\n",
      "table_smi\n",
      "table_nasdaq\n",
      "table_gold\n",
      "table_silver\n"
     ]
    }
   ],
   "source": [
    "inv_instruments = ['URTH', 'EXW1.DE', 'CSSMI.SW', 'EXXT.DE', 'GC=F', 'SI=F']\n",
    "\n",
    "for ins in inv_instruments:\n",
    "    fetch_load_data(ins, then, now)"
   ]
  },
  {
   "cell_type": "code",
   "execution_count": null,
   "id": "39208be3",
   "metadata": {},
   "outputs": [],
   "source": [
    "# Fetch Data from database (nur für Kontrolle)"
   ]
  },
  {
   "cell_type": "code",
   "execution_count": 108,
   "id": "f96c2534",
   "metadata": {},
   "outputs": [],
   "source": [
    "try: \n",
    "    conn = psycopg2.connect(\"host=dbyf1.c8vnebtzzltk.us-east-1.rds.amazonaws.com dbname=dbyf1 user=Christoph password=dbyahoo1\")\n",
    "except psycopg2.Error as e: \n",
    "    print(\"Error: Could not make connection to the Postgres database\")\n",
    "    print(e)\n",
    "    \n",
    "try: \n",
    "    cur = conn.cursor()\n",
    "except psycopg2.Error as e: \n",
    "    print(\"Error: Could not get curser to the Database\")\n",
    "    print(e)\n",
    "    \n",
    "# Auto commit is very important\n",
    "conn.set_session(autocommit=True)"
   ]
  },
  {
   "cell_type": "code",
   "execution_count": 186,
   "id": "7b843565",
   "metadata": {},
   "outputs": [
    {
     "name": "stdout",
     "output_type": "stream",
     "text": [
      "(datetime.datetime(2022, 3, 14, 0, 0), 119.080002, 119.300003, 116.5, 116.599998, 116.599998, 37605)\n",
      "(datetime.datetime(2022, 3, 15, 0, 0), 115.120003, 119.120003, 114.540001, 119.0, 119.0, 64273)\n",
      "(datetime.datetime(2022, 3, 16, 0, 0), 121.18, 122.580002, 120.779999, 122.019997, 122.019997, 56915)\n",
      "(datetime.datetime(2022, 3, 17, 0, 0), 123.239998, 123.300003, 121.800003, 122.519997, 122.519997, 21375)\n",
      "(datetime.datetime(2022, 3, 18, 0, 0), 123.459999, 125.959999, 123.339996, 125.940002, 125.940002, 27809)\n",
      "(datetime.datetime(2022, 3, 21, 0, 0), 126.620003, 127.459999, 125.68, 126.279999, 126.279999, 38657)\n",
      "(datetime.datetime(2022, 3, 22, 0, 0), 127.660004, 129.759995, 126.940002, 129.300003, 129.300003, 80574)\n",
      "(datetime.datetime(2022, 3, 23, 0, 0), 129.539993, 130.0, 128.619995, 129.440002, 129.440002, 41454)\n"
     ]
    }
   ],
   "source": [
    "try: \n",
    "    cur.execute(\"SELECT * FROM table_nasdaq;\")\n",
    "except psycopg2.Error as e: \n",
    "    print(\"Error: select *\")\n",
    "    print (e)\n",
    "\n",
    "row = cur.fetchone()\n",
    "while row:\n",
    "   print(row)\n",
    "   row = cur.fetchone()"
   ]
  },
  {
   "cell_type": "code",
   "execution_count": null,
   "id": "63400865",
   "metadata": {},
   "outputs": [],
   "source": [
    "cur.close()\n",
    "conn.close()"
   ]
  }
 ],
 "metadata": {
  "kernelspec": {
   "display_name": "Python 3 (ipykernel)",
   "language": "python",
   "name": "python3"
  },
  "language_info": {
   "codemirror_mode": {
    "name": "ipython",
    "version": 3
   },
   "file_extension": ".py",
   "mimetype": "text/x-python",
   "name": "python",
   "nbconvert_exporter": "python",
   "pygments_lexer": "ipython3",
   "version": "3.9.7"
  }
 },
 "nbformat": 4,
 "nbformat_minor": 5
}
